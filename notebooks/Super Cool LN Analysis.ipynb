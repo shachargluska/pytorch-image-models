{
 "cells": [
  {
   "cell_type": "code",
   "execution_count": null,
   "id": "251f4f90",
   "metadata": {},
   "outputs": [],
   "source": [
    "import itertools as it\n",
    "import matplotlib.pyplot as plt\n",
    "import numpy as np"
   ]
  },
  {
   "cell_type": "code",
   "execution_count": null,
   "id": "47b1fd12",
   "metadata": {},
   "outputs": [],
   "source": [
    "MODELS='vit_tiny_patch16_224 deit_tiny_patch16_224 deit_tiny_distilled_patch16_224 vit_small_patch16_224 deit_small_patch16_224 deit_small_distilled_patch16_224'.split()"
   ]
  },
  {
   "cell_type": "code",
   "execution_count": null,
   "id": "6904f4c0",
   "metadata": {},
   "outputs": [],
   "source": [
    "MODEL='vit_tiny_patch16_224'"
   ]
  },
  {
   "cell_type": "code",
   "execution_count": null,
   "id": "41c985dd",
   "metadata": {},
   "outputs": [],
   "source": [
    "npz_path = f'{MODEL}_layernorm.npz'\n",
    "data = np.load(npz_path)"
   ]
  },
  {
   "cell_type": "code",
   "execution_count": null,
   "id": "8cd503eb",
   "metadata": {},
   "outputs": [],
   "source": [
    "metric = 'var'\n",
    "\n",
    "def box_plot(data, edge_color, fill_color):\n",
    "    bp = ax.boxplot(data, patch_artist=True)\n",
    "    \n",
    "    for element in ['boxes', 'whiskers', 'fliers', 'means', 'medians', 'caps']:\n",
    "        plt.setp(bp[element], color=edge_color)\n",
    "        if element == 'fliers':\n",
    "            plt.setp(bp[element], markeredgecolor=edge_color)\n",
    "\n",
    "    for patch in bp['boxes']:\n",
    "        patch.set(facecolor=fill_color)       \n",
    "        \n",
    "    return bp\n",
    "\n",
    "data=np.load('deit_tiny_distilled_patch16_224_layernorm.npz')\n",
    "data2=np.load('deit_tiny_patch16_224_layernorm.npz')\n",
    "fig, ax = plt.subplots(figsize=(12,8))\n",
    "keys = [k for k in data.keys() if k.endswith(f'/{metric}')]\n",
    "box_plot([data[k] for k in keys], 'red', 'tan')\n",
    "box_plot([data2[k] for k in keys],'blue', 'cyan')\n",
    "#ax.set_xticklabels([k.split('/')[0] for k in keys], rotation=90)\n",
    "ax.set_title(f'{metric} [{model}]')\n",
    "plt.show()"
   ]
  },
  {
   "cell_type": "code",
   "execution_count": null,
   "id": "d3b462c9",
   "metadata": {},
   "outputs": [],
   "source": [
    "def plot_metric(metric, model, data):\n",
    "    fig, ax = plt.subplots(figsize=(12,8))\n",
    "    keys = [k for k in data.keys() if k.endswith(f'/{metric}')]\n",
    "    ax.boxplot([data[k] for k in keys])\n",
    "    ax.set_xticklabels([k.split('/')[0] for k in keys], rotation=90)\n",
    "    ax.set_title(f'{metric} [{model}]')\n",
    "    plt.show()"
   ]
  },
  {
   "cell_type": "code",
   "execution_count": null,
   "id": "32d85ef8",
   "metadata": {},
   "outputs": [],
   "source": [
    "for metric, model in it.product(['var', 'mean'], MODELS):\n",
    "    npz_path = f'{model}_layernorm.npz'\n",
    "    data = np.load(npz_path)\n",
    "    plot_metric(metric, model, data)"
   ]
  },
  {
   "cell_type": "code",
   "execution_count": null,
   "id": "200238fd",
   "metadata": {},
   "outputs": [],
   "source": [
    "fig, ax = plt.subplots(figsize=(12,8))\n",
    "ax.boxplot(data['blocks.8.norm1/mean_token'][0:50].T)"
   ]
  },
  {
   "cell_type": "code",
   "execution_count": null,
   "id": "18167c92",
   "metadata": {},
   "outputs": [],
   "source": [
    "fig, ax = plt.subplots(figsize=(12,8))\n",
    "ax.boxplot(data['blocks.8.norm1/var_token'][0:50].T)"
   ]
  },
  {
   "cell_type": "code",
   "execution_count": null,
   "id": "93eb4f69",
   "metadata": {},
   "outputs": [],
   "source": [
    "keys"
   ]
  },
  {
   "cell_type": "code",
   "execution_count": null,
   "id": "5e313682",
   "metadata": {},
   "outputs": [],
   "source": [
    "data['blocks.8.norm1/var'].max(), data['blocks.8.norm1/var'].min(), data['blocks.8.norm1/var'].mean()"
   ]
  },
  {
   "cell_type": "code",
   "execution_count": null,
   "id": "7eddc3a3",
   "metadata": {},
   "outputs": [],
   "source": [
    "keys=['blocks.0.norm1',\n",
    " 'blocks.0.norm2',\n",
    " 'blocks.1.norm1',\n",
    " 'blocks.1.norm2',\n",
    " 'blocks.10.norm1',\n",
    " 'blocks.10.norm2',\n",
    " 'blocks.11.norm1',\n",
    " 'blocks.11.norm2',\n",
    " 'blocks.2.norm1',\n",
    " 'blocks.2.norm2',\n",
    " 'blocks.3.norm1',\n",
    " 'blocks.3.norm2',\n",
    " 'blocks.4.norm1',\n",
    " 'blocks.4.norm2',\n",
    " 'blocks.5.norm1',\n",
    " 'blocks.5.norm2',\n",
    " 'blocks.6.norm1',\n",
    " 'blocks.6.norm2',\n",
    " 'blocks.7.norm1',\n",
    " 'blocks.7.norm2',\n",
    " 'blocks.8.norm1',\n",
    " 'blocks.8.norm2',\n",
    " 'blocks.9.norm1',\n",
    " 'blocks.9.norm2',\n",
    " 'norm']"
   ]
  },
  {
   "cell_type": "code",
   "execution_count": null,
   "id": "6415eb87",
   "metadata": {},
   "outputs": [],
   "source": [
    "def plot_profile(metric, models):\n",
    "    fig, ax = plt.subplots(figsize=(12,8))\n",
    "    N = len(keys)\n",
    "    for model in models:\n",
    "        npz_path = f'{model}_layernorm.npz'\n",
    "        data = np.load(npz_path)\n",
    "        d = [data[f'{k}/{metric}'] for k in keys]\n",
    "        ax.scatter(range(N), [x.mean() for x in d], label=model)\n",
    "    ax.set_xticks(range(N))\n",
    "    ax.set_xticklabels(keys, rotation=90)\n",
    "    ax.set_title(f'{metric} [{models}]')\n",
    "    plt.legend()\n",
    "    plt.show()"
   ]
  },
  {
   "cell_type": "code",
   "execution_count": null,
   "id": "d84ba9ce",
   "metadata": {},
   "outputs": [],
   "source": [
    "models = ['vit_tiny_patch16_224', 'deit_tiny_patch16_224']\n",
    "plot_profile('var', models)"
   ]
  },
  {
   "cell_type": "code",
   "execution_count": null,
   "id": "2ab5262e",
   "metadata": {},
   "outputs": [],
   "source": [
    "models = ['deit_tiny_patch16_224', 'deit_tiny_distilled_patch16_224']\n",
    "plot_profile('var', models)"
   ]
  },
  {
   "cell_type": "code",
   "execution_count": null,
   "id": "05a8e973",
   "metadata": {},
   "outputs": [],
   "source": [
    "models = ['vit_small_patch16_224', 'deit_small_patch16_224']\n",
    "plot_profile('var', models)"
   ]
  },
  {
   "cell_type": "code",
   "execution_count": null,
   "id": "bafd4d1c",
   "metadata": {},
   "outputs": [],
   "source": [
    "models = ['deit_small_patch16_224', 'deit_small_distilled_patch16_224']\n",
    "plot_profile('var', models)"
   ]
  },
  {
   "cell_type": "code",
   "execution_count": null,
   "id": "b6855fa1",
   "metadata": {},
   "outputs": [],
   "source": [
    "models = ['deit_tiny_patch16_224', 'deit_small_patch16_224']\n",
    "plot_profile('var', models)"
   ]
  },
  {
   "cell_type": "markdown",
   "id": "2770ea08",
   "metadata": {},
   "source": [
    "### Breakdown by Layer and by Sequence Position"
   ]
  },
  {
   "cell_type": "code",
   "execution_count": null,
   "id": "47fb1966",
   "metadata": {},
   "outputs": [],
   "source": [
    "data.files"
   ]
  },
  {
   "cell_type": "code",
   "execution_count": null,
   "id": "2a1e9aac",
   "metadata": {},
   "outputs": [],
   "source": [
    "data['blocks.8.norm1/var_token'].shape"
   ]
  },
  {
   "cell_type": "code",
   "execution_count": null,
   "id": "68fa82d2",
   "metadata": {},
   "outputs": [],
   "source": [
    "def plot_token_metric(metric, model, data):\n",
    "    \n",
    "    layers = [k for k in data.keys() if k.endswith(f'/{metric}_token')]\n",
    "    for k in layers:\n",
    "        fig, ax = plt.subplots(figsize=(12,8))\n",
    "        layer_name = k.split('/')[0]\n",
    "        print('working on layer {}'.format(layer_name))\n",
    "        vals = data[k][:128]\n",
    "        print('data shape is {}'.format(vals.shape))\n",
    "        ax.boxplot(vals[:][:10])\n",
    "        ax.set_title(f'{metric} [{model}-{layer_name}]')\n",
    "        plt.show()"
   ]
  },
  {
   "cell_type": "code",
   "execution_count": null,
   "id": "fe2213f3",
   "metadata": {},
   "outputs": [],
   "source": [
    "layers = [k for k in data.keys() if k.endswith(f'/{metric}_token')]\n",
    "data[layers[0]].shape"
   ]
  },
  {
   "cell_type": "code",
   "execution_count": null,
   "id": "5c39c024",
   "metadata": {},
   "outputs": [],
   "source": [
    "plot_token_metric('var', 'deit_tiny_distilled_patch16_224', np.load('deit_tiny_distilled_patch16_224_layernorm.npz'))"
   ]
  },
  {
   "cell_type": "code",
   "execution_count": null,
   "id": "874f00b8",
   "metadata": {},
   "outputs": [],
   "source": [
    "plot_token_metric('var', 'deit_tiny_patch16_224', np.load('deit_tiny_distilled_patch16_224_layernorm.npz'))"
   ]
  },
  {
   "cell_type": "code",
   "execution_count": null,
   "id": "37731fef",
   "metadata": {},
   "outputs": [],
   "source": [
    "def plot_var_mean(model, data):\n",
    "    fig, ax = plt.subplots(figsize=(12,8))\n",
    "    layers = [k.split('/')[0] for k in data.keys() if k.endswith(f'/var_token')]\n",
    "    for layer in layers:\n",
    "        mean_data = data[f'{layer}/mean_token']\n",
    "        var_data = data[f'{layer}/var_token']\n",
    "        N = mean_data.shape[-1]\n",
    "        colors = plt.cm.get_cmap('hsv', N)\n",
    "        for i in range(N):\n",
    "            ax.scatter(mean_data[:, i], var_data[:, i], color=colors(i))\n",
    "        ax.set_title(f'{metric} [{model}-{layer}]')\n",
    "        ax.set_xlabel('mean')\n",
    "        ax.set_ylabel('var')\n",
    "        plt.show()\n",
    "        break"
   ]
  },
  {
   "cell_type": "code",
   "execution_count": null,
   "id": "5a573961",
   "metadata": {},
   "outputs": [],
   "source": [
    "plot_var_mean('deit_tiny_distilled_patch16_224', np.load('deit_tiny_distilled_patch16_224_layernorm.npz'))"
   ]
  },
  {
   "cell_type": "code",
   "execution_count": null,
   "id": "086ede28",
   "metadata": {},
   "outputs": [],
   "source": []
  }
 ],
 "metadata": {
  "kernelspec": {
   "display_name": "Python 3",
   "language": "python",
   "name": "python3"
  },
  "language_info": {
   "codemirror_mode": {
    "name": "ipython",
    "version": 3
   },
   "file_extension": ".py",
   "mimetype": "text/x-python",
   "name": "python",
   "nbconvert_exporter": "python",
   "pygments_lexer": "ipython3",
   "version": "3.8.10"
  }
 },
 "nbformat": 4,
 "nbformat_minor": 5
}
